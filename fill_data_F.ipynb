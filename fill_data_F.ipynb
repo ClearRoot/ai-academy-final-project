{
 "cells": [
  {
   "cell_type": "code",
   "execution_count": 1,
   "metadata": {},
   "outputs": [],
   "source": [
    "import pandas as pd\n",
    "import numpy as np\n",
    "from matplotlib import dates\n",
    "import matplotlib.pyplot as plt\n",
    "import matplotlib.ticker as ticker\n",
    "import seaborn as sns"
   ]
  },
  {
   "cell_type": "code",
   "execution_count": 35,
   "metadata": {},
   "outputs": [],
   "source": [
    "df_all = pd.read_csv(r'data/total_dataset_F.csv', low_memory=False)\n",
    "df_all['Time'] = pd.to_datetime(df_all['Time'])"
   ]
  },
  {
   "cell_type": "code",
   "execution_count": 36,
   "metadata": {},
   "outputs": [
    {
     "name": "stdout",
     "output_type": "stream",
     "text": [
      "기존데이터 갯수 : 4795554\n"
     ]
    }
   ],
   "source": [
    "print('기존데이터 갯수 :' , len(df_all))"
   ]
  },
  {
   "cell_type": "markdown",
   "metadata": {},
   "source": [
    "## all racks data fill"
   ]
  },
  {
   "cell_type": "code",
   "execution_count": 37,
   "metadata": {},
   "outputs": [],
   "source": [
    "def fill_data(df, start_time: str, end_time: str):\n",
    "    start = pd.Timestamp(start_time)\n",
    "    end   = pd.Timestamp(end_time)\n",
    "    target = ['Time', 'Tmp', 'TmpMax', 'TmpMin', 'VCell', 'VCellMax', 'VCellMin', 'AChaMax', 'ADisChaMax', 'SoC']\n",
    "\n",
    "    for i in range(14):\n",
    "        temp_df = df[(start <= df['Time']) & (df['Time'] < end) & (df['Racks'] == f'racks_{i}')].loc[:, target]\n",
    "        temp_df = temp_df.replace(np.float64(0.0), np.NAN)\n",
    "        for e in temp_df.columns[1:]:\n",
    "            temp_df[e] = pd.Series(temp_df[e]).interpolate()\n",
    "        df.loc[temp_df.index[0]:temp_df.index[-1], target] = temp_df\n",
    "    return df"
   ]
  },
  {
   "cell_type": "code",
   "execution_count": 38,
   "metadata": {},
   "outputs": [],
   "source": [
    "df_all = fill_data(df=df_all, start_time='2019-01-18 00:00:00', end_time='2019-01-19 00:00:00')\n",
    "df_all = fill_data(df=df_all, start_time='2019-01-25 00:00:00', end_time='2019-01-26 00:00:00')\n",
    "df_all = fill_data(df=df_all, start_time='2019-01-28 00:00:00', end_time='2019-01-29 00:00:00')\n",
    "\n",
    "df_all = fill_data(df=df_all, start_time='2019-03-20 00:00:00', end_time='2019-03-21 00:00:00')\n",
    "\n",
    "df_all = fill_data(df=df_all, start_time='2019-04-11 00:00:00', end_time='2019-04-12 00:00:00')\n",
    "df_all = fill_data(df=df_all, start_time='2019-04-13 00:00:00', end_time='2019-04-14 00:00:00')\n",
    "df_all = fill_data(df=df_all, start_time='2019-04-19 00:00:00', end_time='2019-04-20 00:00:00')\n",
    "df_all = fill_data(df=df_all, start_time='2019-04-25 00:00:00', end_time='2019-04-26 00:00:00')\n",
    "\n",
    "df_all = fill_data(df=df_all, start_time='2019-05-20 00:00:00', end_time='2019-05-21 00:00:00')\n",
    "df_all = fill_data(df=df_all, start_time='2019-05-27 00:00:00', end_time='2019-05-28 00:00:00')\n",
    "\n",
    "df_all = fill_data(df=df_all, start_time='2019-06-05 00:00:00', end_time='2019-06-06 00:00:00')\n",
    "df_all = fill_data(df=df_all, start_time='2019-06-07 00:00:00', end_time='2019-06-08 00:00:00')\n",
    "df_all = fill_data(df=df_all, start_time='2019-06-18 00:00:00', end_time='2019-06-19 00:00:00')\n",
    "df_all = fill_data(df=df_all, start_time='2019-06-29 00:00:00', end_time='2019-06-30 00:00:00')\n",
    "\n",
    "df_all = fill_data(df=df_all, start_time='2019-08-06 00:00:00', end_time='2019-08-07 00:00:00')\n",
    "df_all = fill_data(df=df_all, start_time='2019-08-13 00:00:00', end_time='2019-08-14 00:00:00')\n",
    "df_all = fill_data(df=df_all, start_time='2019-08-23 00:00:00', end_time='2019-08-24 00:00:00')\n"
   ]
  },
  {
   "cell_type": "markdown",
   "metadata": {},
   "source": [
    "## 0 ~ 9 racks data fill"
   ]
  },
  {
   "cell_type": "code",
   "execution_count": 39,
   "metadata": {},
   "outputs": [],
   "source": [
    "def fill_data_part9(df, start_time: str, end_time: str):\n",
    "    start = pd.Timestamp(start_time)\n",
    "    end   = pd.Timestamp(end_time)\n",
    "    target = ['Time', 'Tmp', 'TmpMax', 'TmpMin', 'VCell', 'VCellMax', 'VCellMin', 'AChaMax', 'ADisChaMax', 'SoC']\n",
    "\n",
    "    for i in range(10):\n",
    "        temp_df = df[(start <= df['Time']) & (df['Time'] < end) & (df['Racks'] == f'racks_{i}')].loc[:, target]\n",
    "        temp_df = temp_df.replace(np.float64(0.0), np.NAN)\n",
    "        for e in temp_df.columns[1:]:\n",
    "            temp_df[e] = pd.Series(temp_df[e]).interpolate()\n",
    "        df.loc[temp_df.index[0]:temp_df.index[-1], target] = temp_df\n",
    "    return df"
   ]
  },
  {
   "cell_type": "code",
   "execution_count": 40,
   "metadata": {},
   "outputs": [],
   "source": [
    "df_all = fill_data_part9(df=df_all, start_time='2019-12-05 00:00:00', end_time='2019-12-06 00:00:00')\n",
    "df_all = fill_data_part9(df=df_all, start_time='2019-12-06 00:00:00', end_time='2019-12-07 00:00:00')\n",
    "df_all = fill_data_part9(df=df_all, start_time='2019-12-09 00:00:00', end_time='2019-12-10 00:00:00')\n",
    "df_all = fill_data_part9(df=df_all, start_time='2019-12-16 00:00:00', end_time='2019-12-17 00:00:00')\n",
    "df_all = fill_data_part9(df=df_all, start_time='2019-12-17 00:00:00', end_time='2019-12-18 00:00:00')\n",
    "\n",
    "df_all = fill_data_part9(df=df_all, start_time='2020-02-10 00:00:00', end_time='2020-02-11 00:00:00')\n",
    "df_all = fill_data_part9(df=df_all, start_time='2020-02-12 00:00:00', end_time='2020-02-13 00:00:00')\n",
    "df_all = fill_data_part9(df=df_all, start_time='2020-02-25 00:00:00', end_time='2020-02-26 00:00:00')"
   ]
  },
  {
   "cell_type": "markdown",
   "metadata": {},
   "source": [
    "## 0~7 racks data fill"
   ]
  },
  {
   "cell_type": "code",
   "execution_count": 41,
   "metadata": {},
   "outputs": [],
   "source": [
    "def fill_data_part7(df, start_time: str, end_time: str):\n",
    "    start = pd.Timestamp(start_time)\n",
    "    end   = pd.Timestamp(end_time)\n",
    "    target = ['Time', 'Tmp', 'TmpMax', 'TmpMin', 'VCell', 'VCellMax', 'VCellMin', 'AChaMax', 'ADisChaMax', 'SoC']\n",
    "\n",
    "    for i in range(8):\n",
    "        temp_df = df[(start <= df['Time']) & (df['Time'] < end) & (df['Racks'] == f'racks_{i}')].loc[:, target]\n",
    "        temp_df = temp_df.replace(np.float64(0.0), np.NAN)\n",
    "        for e in temp_df.columns[1:]:\n",
    "            temp_df[e] = pd.Series(temp_df[e]).interpolate()\n",
    "        df.loc[temp_df.index[0]:temp_df.index[-1], target] = temp_df\n",
    "    return df"
   ]
  },
  {
   "cell_type": "code",
   "execution_count": 42,
   "metadata": {},
   "outputs": [],
   "source": [
    "df_all = fill_data_part7(df=df_all, start_time='2020-03-09 00:00:00', end_time='2020-03-10 00:00:00')\n",
    "df_all = fill_data_part7(df=df_all, start_time='2020-03-13 00:00:00', end_time='2020-03-14 00:00:00')\n",
    "df_all = fill_data_part7(df=df_all, start_time='2020-03-23 00:00:00', end_time='2020-03-24 00:00:00')"
   ]
  },
  {
   "cell_type": "markdown",
   "metadata": {},
   "source": [
    "## drop data"
   ]
  },
  {
   "cell_type": "code",
   "execution_count": 43,
   "metadata": {},
   "outputs": [],
   "source": [
    "def drop_data(df, start_time: str, end_time: str, target_rack: str):\n",
    "    start = pd.Timestamp(start_time)\n",
    "    end   = pd.Timestamp(end_time)\n",
    "    target = ['Time', 'Tmp', 'TmpMax', 'TmpMin', 'VCell', 'VCellMax', 'VCellMin', 'AChaMax', 'ADisChaMax', 'SoC']\n",
    "\n",
    "    temp_df = df[(start <= df['Time']) & (df['Time'] <= end) & (df['Racks'] == f'{target_rack}')].loc[:, target]\n",
    "    print(len(temp_df))\n",
    "    df = df.drop(index=temp_df.index)\n",
    "    return df"
   ]
  },
  {
   "cell_type": "code",
   "execution_count": 44,
   "metadata": {},
   "outputs": [
    {
     "name": "stdout",
     "output_type": "stream",
     "text": [
      "2222\n",
      "2108\n",
      "1439\n",
      "2108\n",
      "1439\n",
      "18868\n",
      "18868\n"
     ]
    }
   ],
   "source": [
    "df_all = drop_data(df_all, \"2019-08-30 00:00:00\", \"2019-08-30 23:59:00\", \"racks_13\")\n",
    "\n",
    "df_all = drop_data(df_all, \"2020-02-28 00:00:00\", \"2020-02-28 23:59:00\", \"racks_8\")\n",
    "df_all = drop_data(df_all, \"2020-02-29 00:00:00\", \"2020-02-29 23:59:00\", \"racks_8\")\n",
    "df_all = drop_data(df_all, \"2020-02-28 00:00:00\", \"2020-02-28 23:59:00\", \"racks_9\")\n",
    "df_all = drop_data(df_all, \"2020-02-29 00:00:00\", \"2020-02-29 23:59:00\", \"racks_9\")\n",
    "\n",
    "df_all = drop_data(df_all, \"2020-03-01 00:00:00\", \"2020-03-31 23:59:00\", \"racks_8\")\n",
    "df_all = drop_data(df_all, \"2020-03-01 00:00:00\", \"2020-03-31 23:59:00\", \"racks_9\")"
   ]
  },
  {
   "cell_type": "code",
   "execution_count": 50,
   "metadata": {},
   "outputs": [
    {
     "data": {
      "text/plain": [
       "4748502"
      ]
     },
     "execution_count": 50,
     "metadata": {},
     "output_type": "execute_result"
    }
   ],
   "source": [
    "len(df_all)"
   ]
  },
  {
   "cell_type": "code",
   "execution_count": null,
   "metadata": {},
   "outputs": [],
   "source": [
    "df_all.to_csv('preprocessing_data_F.csv', index=None)"
   ]
  },
  {
   "cell_type": "code",
   "execution_count": 10,
   "metadata": {},
   "outputs": [],
   "source": [
    "df_new = pd.read_csv('preprocessing_data_F.csv', low_memory=False)"
   ]
  },
  {
   "cell_type": "code",
   "execution_count": 11,
   "metadata": {},
   "outputs": [
    {
     "data": {
      "text/plain": [
       "995049"
      ]
     },
     "execution_count": 11,
     "metadata": {},
     "output_type": "execute_result"
    }
   ],
   "source": [
    "len(df_new)"
   ]
  },
  {
   "cell_type": "code",
   "execution_count": 6,
   "metadata": {},
   "outputs": [],
   "source": [
    "df_new['VCelldifference'] = df_new.apply(lambda x: x.VCellMax - x.VCellMin, axis='columns')"
   ]
  },
  {
   "cell_type": "code",
   "execution_count": 8,
   "metadata": {},
   "outputs": [],
   "source": [
    "df_new = df_new[['Time', 'Tmp', 'TmpMax', 'TmpMin', 'TmpMinMaxLoc', 'VCell', 'VCellMax',\n",
    "       'VCellMin', 'VCelldifference', 'VCellMinMaxLoc', 'A', 'AChaMax', 'ADisChaMax', 'EvtVnd1',\n",
    "       'EvtVnd2', 'EvtVnd3', 'SoC', 'V', 'W', 'WChaMax', 'WDisChaMax',\n",
    "       'Racks']]"
   ]
  }
 ],
 "metadata": {
  "interpreter": {
   "hash": "5de8c1c686d05d9ca8fe863d4d842c92f498e7b7b0bdb1297a2151a07308c6e5"
  },
  "kernelspec": {
   "display_name": "Python 3.8.10 64-bit",
   "language": "python",
   "name": "python3"
  },
  "language_info": {
   "codemirror_mode": {
    "name": "ipython",
    "version": 3
   },
   "file_extension": ".py",
   "mimetype": "text/x-python",
   "name": "python",
   "nbconvert_exporter": "python",
   "pygments_lexer": "ipython3",
   "version": "3.8.10"
  },
  "orig_nbformat": 4
 },
 "nbformat": 4,
 "nbformat_minor": 2
}
