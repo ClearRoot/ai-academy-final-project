{
 "cells": [
  {
   "cell_type": "markdown",
   "metadata": {},
   "source": [
    "# 원별로 나누어진 csv를 하나의 csv로 합치기"
   ]
  },
  {
   "cell_type": "code",
   "execution_count": 1,
   "metadata": {},
   "outputs": [],
   "source": [
    "import os\n",
    "import re\n",
    "\n",
    "import pandas as pd\n",
    "from tqdm import tqdm"
   ]
  },
  {
   "cell_type": "code",
   "execution_count": 2,
   "metadata": {},
   "outputs": [],
   "source": [
    "folder_path = r'dataset\\racks_f_prep/'"
   ]
  },
  {
   "cell_type": "code",
   "execution_count": 3,
   "metadata": {},
   "outputs": [],
   "source": [
    "target_columns = [ \n",
    "    'Time', 'Tmp', 'TmpMax', 'TmpMin', 'TmpMinMaxLoc', 'VCell', 'VCellMax', 'VCellMin', 'VCellMinMaxLoc',  \n",
    "    'A', 'AChaMax', 'ADisChaMax', 'EvtVnd1', 'EvtVnd2', 'EvtVnd3', 'SoC', 'SoH', 'V', 'W', 'WChaMax', 'WDisChaMax'\n",
    "]"
   ]
  },
  {
   "cell_type": "code",
   "execution_count": 4,
   "metadata": {},
   "outputs": [],
   "source": [
    "def total_dataset(folder_path):\n",
    "    evt_df = pd.DataFrame(columns=target_columns + ['Racks'])\n",
    "    file_list = sorted(os.listdir(folder_path), key=lambda x: int(x.split('_')[1]))\n",
    "    \n",
    "    for file_name in tqdm(file_list):\n",
    "        df = pd.read_csv(folder_path + file_name, low_memory=False)\n",
    "        racks_num = file_name.split('_')[1]\n",
    "\n",
    "        df['Racks'] = f'racks_{racks_num}'\n",
    "        \n",
    "        evt_df = pd.concat([evt_df, df])\n",
    "\n",
    "    return evt_df"
   ]
  },
  {
   "cell_type": "code",
   "execution_count": 5,
   "metadata": {},
   "outputs": [
    {
     "name": "stderr",
     "output_type": "stream",
     "text": [
      "100%|██████████| 180/180 [02:18<00:00,  1.30it/s]\n"
     ]
    }
   ],
   "source": [
    "total_df = total_dataset(folder_path)"
   ]
  },
  {
   "cell_type": "code",
   "execution_count": 6,
   "metadata": {},
   "outputs": [],
   "source": [
    "total_df.to_csv('racks_f_total_dataset.csv', index=False)"
   ]
  },
  {
   "cell_type": "code",
   "execution_count": 2,
   "metadata": {},
   "outputs": [
    {
     "name": "stderr",
     "output_type": "stream",
     "text": [
      "C:\\Users\\HogeunJo\\anaconda3\\envs\\main\\lib\\site-packages\\IPython\\core\\interactiveshell.py:3441: DtypeWarning: Columns (12,13,14) have mixed types.Specify dtype option on import or set low_memory=False.\n",
      "  exec(code_obj, self.user_global_ns, self.user_ns)\n"
     ]
    }
   ],
   "source": [
    "df = pd.read_csv(r'C:\\Users\\HogeunJo\\Desktop\\aiacademy\\total_dataset.csv')"
   ]
  },
  {
   "cell_type": "code",
   "execution_count": 7,
   "metadata": {},
   "outputs": [
    {
     "data": {
      "text/html": [
       "<div>\n",
       "<style scoped>\n",
       "    .dataframe tbody tr th:only-of-type {\n",
       "        vertical-align: middle;\n",
       "    }\n",
       "\n",
       "    .dataframe tbody tr th {\n",
       "        vertical-align: top;\n",
       "    }\n",
       "\n",
       "    .dataframe thead th {\n",
       "        text-align: right;\n",
       "    }\n",
       "</style>\n",
       "<table border=\"1\" class=\"dataframe\">\n",
       "  <thead>\n",
       "    <tr style=\"text-align: right;\">\n",
       "      <th></th>\n",
       "      <th>Time</th>\n",
       "      <th>Racks</th>\n",
       "      <th>EvtVnd1</th>\n",
       "      <th>EvtVnd2</th>\n",
       "      <th>EvtVnd3</th>\n",
       "    </tr>\n",
       "  </thead>\n",
       "  <tbody>\n",
       "    <tr>\n",
       "      <th>3136431</th>\n",
       "      <td>2019-01-10 21:50:00</td>\n",
       "      <td>racks_8</td>\n",
       "      <td>NaN</td>\n",
       "      <td>NaN</td>\n",
       "      <td>['Over Cell Voltage Difference Warning']</td>\n",
       "    </tr>\n",
       "    <tr>\n",
       "      <th>3136432</th>\n",
       "      <td>2019-01-10 21:51:00</td>\n",
       "      <td>racks_8</td>\n",
       "      <td>NaN</td>\n",
       "      <td>NaN</td>\n",
       "      <td>['Over Cell Voltage Difference Warning']</td>\n",
       "    </tr>\n",
       "    <tr>\n",
       "      <th>3136433</th>\n",
       "      <td>2019-01-10 21:52:00</td>\n",
       "      <td>racks_8</td>\n",
       "      <td>NaN</td>\n",
       "      <td>NaN</td>\n",
       "      <td>['Over Cell Voltage Difference Warning']</td>\n",
       "    </tr>\n",
       "    <tr>\n",
       "      <th>3136434</th>\n",
       "      <td>2019-01-10 21:53:00</td>\n",
       "      <td>racks_8</td>\n",
       "      <td>NaN</td>\n",
       "      <td>NaN</td>\n",
       "      <td>['Over Cell Voltage Difference Warning']</td>\n",
       "    </tr>\n",
       "    <tr>\n",
       "      <th>3136435</th>\n",
       "      <td>2019-01-10 21:54:00</td>\n",
       "      <td>racks_8</td>\n",
       "      <td>NaN</td>\n",
       "      <td>NaN</td>\n",
       "      <td>['Over Cell Voltage Difference Warning']</td>\n",
       "    </tr>\n",
       "    <tr>\n",
       "      <th>...</th>\n",
       "      <td>...</td>\n",
       "      <td>...</td>\n",
       "      <td>...</td>\n",
       "      <td>...</td>\n",
       "      <td>...</td>\n",
       "    </tr>\n",
       "    <tr>\n",
       "      <th>3491403</th>\n",
       "      <td>2020-02-28 10:53:00</td>\n",
       "      <td>racks_8</td>\n",
       "      <td>NaN</td>\n",
       "      <td>['Comm. Error with the BSC']</td>\n",
       "      <td>NaN</td>\n",
       "    </tr>\n",
       "    <tr>\n",
       "      <th>3491404</th>\n",
       "      <td>2020-02-28 10:54:00</td>\n",
       "      <td>racks_8</td>\n",
       "      <td>NaN</td>\n",
       "      <td>['Comm. Error with the BSC']</td>\n",
       "      <td>NaN</td>\n",
       "    </tr>\n",
       "    <tr>\n",
       "      <th>3491405</th>\n",
       "      <td>2020-02-28 10:55:00</td>\n",
       "      <td>racks_8</td>\n",
       "      <td>NaN</td>\n",
       "      <td>['Comm. Error with the BSC']</td>\n",
       "      <td>NaN</td>\n",
       "    </tr>\n",
       "    <tr>\n",
       "      <th>3491406</th>\n",
       "      <td>2020-02-28 10:56:00</td>\n",
       "      <td>racks_8</td>\n",
       "      <td>NaN</td>\n",
       "      <td>['Comm. Error with the BSC']</td>\n",
       "      <td>NaN</td>\n",
       "    </tr>\n",
       "    <tr>\n",
       "      <th>3491407</th>\n",
       "      <td>2020-02-28 10:57:00</td>\n",
       "      <td>racks_8</td>\n",
       "      <td>NaN</td>\n",
       "      <td>['Comm. Error with the BSC']</td>\n",
       "      <td>NaN</td>\n",
       "    </tr>\n",
       "  </tbody>\n",
       "</table>\n",
       "<p>7948 rows × 5 columns</p>\n",
       "</div>"
      ],
      "text/plain": [
       "                        Time    Racks EvtVnd1                       EvtVnd2  \\\n",
       "3136431  2019-01-10 21:50:00  racks_8     NaN                           NaN   \n",
       "3136432  2019-01-10 21:51:00  racks_8     NaN                           NaN   \n",
       "3136433  2019-01-10 21:52:00  racks_8     NaN                           NaN   \n",
       "3136434  2019-01-10 21:53:00  racks_8     NaN                           NaN   \n",
       "3136435  2019-01-10 21:54:00  racks_8     NaN                           NaN   \n",
       "...                      ...      ...     ...                           ...   \n",
       "3491403  2020-02-28 10:53:00  racks_8     NaN  ['Comm. Error with the BSC']   \n",
       "3491404  2020-02-28 10:54:00  racks_8     NaN  ['Comm. Error with the BSC']   \n",
       "3491405  2020-02-28 10:55:00  racks_8     NaN  ['Comm. Error with the BSC']   \n",
       "3491406  2020-02-28 10:56:00  racks_8     NaN  ['Comm. Error with the BSC']   \n",
       "3491407  2020-02-28 10:57:00  racks_8     NaN  ['Comm. Error with the BSC']   \n",
       "\n",
       "                                          EvtVnd3  \n",
       "3136431  ['Over Cell Voltage Difference Warning']  \n",
       "3136432  ['Over Cell Voltage Difference Warning']  \n",
       "3136433  ['Over Cell Voltage Difference Warning']  \n",
       "3136434  ['Over Cell Voltage Difference Warning']  \n",
       "3136435  ['Over Cell Voltage Difference Warning']  \n",
       "...                                           ...  \n",
       "3491403                                       NaN  \n",
       "3491404                                       NaN  \n",
       "3491405                                       NaN  \n",
       "3491406                                       NaN  \n",
       "3491407                                       NaN  \n",
       "\n",
       "[7948 rows x 5 columns]"
      ]
     },
     "execution_count": 7,
     "metadata": {},
     "output_type": "execute_result"
    }
   ],
   "source": [
    "df[(df.Racks == 'racks_8') & (df.EvtVnd1.notnull() | df.EvtVnd2.notnull() | df.EvtVnd3.notnull())].loc[:, ['Time', 'Racks', 'EvtVnd1', 'EvtVnd2', 'EvtVnd3']]"
   ]
  },
  {
   "cell_type": "code",
   "execution_count": null,
   "metadata": {},
   "outputs": [],
   "source": []
  }
 ],
 "metadata": {
  "interpreter": {
   "hash": "8d7ca1d44a61b80929308f1be526baf5db053ed9997fc07773d72c16c06c7f79"
  },
  "kernelspec": {
   "display_name": "Python 3.9.6 64-bit ('main': conda)",
   "name": "python3"
  },
  "language_info": {
   "codemirror_mode": {
    "name": "ipython",
    "version": 3
   },
   "file_extension": ".py",
   "mimetype": "text/x-python",
   "name": "python",
   "nbconvert_exporter": "python",
   "pygments_lexer": "ipython3",
   "version": "3.9.6"
  },
  "orig_nbformat": 4
 },
 "nbformat": 4,
 "nbformat_minor": 2
}
