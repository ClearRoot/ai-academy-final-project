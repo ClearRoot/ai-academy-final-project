{
 "cells": [
  {
   "cell_type": "code",
   "execution_count": 2,
   "metadata": {},
   "outputs": [],
   "source": [
    "import pandas as pd\n",
    "import numpy as np\n",
    "from matplotlib import dates\n",
    "import matplotlib.pyplot as plt\n",
    "import matplotlib.ticker as ticker\n",
    "import seaborn as sns"
   ]
  },
  {
   "cell_type": "code",
   "execution_count": 3,
   "metadata": {},
   "outputs": [],
   "source": [
    "df_all = pd.read_csv(r'data/total_dataset_F.csv', low_memory=False)\n",
    "df_all['Time'] = pd.to_datetime(df_all['Time'])"
   ]
  },
  {
   "cell_type": "code",
   "execution_count": null,
   "metadata": {},
   "outputs": [],
   "source": [
    "target = ['Time', 'Tmp', 'TmpMax', 'TmpMin', 'VCell', 'VCellMax', 'VCellMin', 'AChaMax', 'ADisChaMax', 'SoC']"
   ]
  },
  {
   "cell_type": "markdown",
   "metadata": {},
   "source": [
    "## 모든 Rack에 공통된 부분 채우기 진행"
   ]
  },
  {
   "cell_type": "code",
   "execution_count": null,
   "metadata": {},
   "outputs": [],
   "source": [
    "def fill_data(df, start_time: str, end_time: str):\n",
    "    start = pd.Timestamp(start_time)\n",
    "    end   = pd.Timestamp(end_time)\n",
    "    target = ['Time', 'Tmp', 'TmpMax', 'TmpMin', 'VCell', 'VCellMax', 'VCellMin', 'AChaMax', 'ADisChaMax', 'SoC']\n",
    "\n",
    "    for i in range(14):\n",
    "        temp_df = df[(start <= df['Time']) & (df['Time'] < end) & (df['Racks'] == f'racks_{i}')].loc[:, target]\n",
    "        temp_df = temp_df.replace(np.float64(0.0), np.NAN)\n",
    "        for e in temp_df.columns[1:]:\n",
    "            temp_df[e] = pd.Series(temp_df[e]).interpolate()\n",
    "        df.loc[temp_df.index[0]:temp_df.index[-1], target] = temp_df\n",
    "    return df"
   ]
  },
  {
   "cell_type": "code",
   "execution_count": null,
   "metadata": {},
   "outputs": [],
   "source": [
    "# df_all = fill_data(df=df_all, start_time='2019-01-18 00:00:00', end_time='2019-01-19 00:00:00') ## 사용 예시"
   ]
  },
  {
   "cell_type": "markdown",
   "metadata": {},
   "source": [
    "## 데이터 채우기 특정 Rack 으로 진행 "
   ]
  },
  {
   "cell_type": "code",
   "execution_count": null,
   "metadata": {},
   "outputs": [],
   "source": [
    "def fill_data_part(df, start_time: str, end_time: str, target_rack: str):\n",
    "    start = pd.Timestamp(start_time)\n",
    "    end   = pd.Timestamp(end_time)\n",
    "    target = ['Time', 'Tmp', 'TmpMax', 'TmpMin', 'VCell', 'VCellMax', 'VCellMin', 'AChaMax', 'ADisChaMax', 'SoC']\n",
    "\n",
    "    temp_df = df[(start <= df['Time']) & (df['Time'] < end) & (df['Racks'] == f'{target_rack}')].loc[:, target]\n",
    "    temp_df = temp_df.replace(np.float64(0.0), np.NAN)\n",
    "    for e in temp_df.columns[1:]:\n",
    "        temp_df[e] = pd.Series(temp_df[e]).interpolate()\n",
    "    df.loc[temp_df.index[0]:temp_df.index[-1], target] = temp_df\n",
    "    return df"
   ]
  },
  {
   "cell_type": "code",
   "execution_count": null,
   "metadata": {},
   "outputs": [],
   "source": [
    "# df_all = fill_data_part(df_all, '2019-12-05 00:00:00', '2019-12-05 00:00:00', 'racks_0') ## 사용 예시"
   ]
  },
  {
   "cell_type": "markdown",
   "metadata": {},
   "source": [
    "## drop 진행- drop은 특정 칼럼으로만 진행"
   ]
  },
  {
   "cell_type": "code",
   "execution_count": 6,
   "metadata": {},
   "outputs": [],
   "source": [
    "def drop_data(df, start_time: str, end_time: str, target_rack: str):\n",
    "    start = pd.Timestamp(start_time)\n",
    "    end   = pd.Timestamp(end_time)\n",
    "    target = ['Time', 'Tmp', 'TmpMax', 'TmpMin', 'VCell', 'VCellMax', 'VCellMin', 'AChaMax', 'ADisChaMax', 'SoC']\n",
    "\n",
    "    temp_df = df[(start <= df['Time']) & (df['Time'] < end) & (df['Racks'] == f'{target_rack}')].loc[:, target]\n",
    "    df = df.drop(index=temp_df.index)\n",
    "    return df"
   ]
  },
  {
   "cell_type": "code",
   "execution_count": 7,
   "metadata": {},
   "outputs": [],
   "source": [
    "# df_all = drop_data(df_all, '2019-08-30 00:00:00', '2019-08-31 00:00:00', 'racks_8') ## 사용 예시"
   ]
  }
 ],
 "metadata": {
  "interpreter": {
   "hash": "5de8c1c686d05d9ca8fe863d4d842c92f498e7b7b0bdb1297a2151a07308c6e5"
  },
  "kernelspec": {
   "display_name": "Python 3.8.10 64-bit",
   "language": "python",
   "name": "python3"
  },
  "language_info": {
   "codemirror_mode": {
    "name": "ipython",
    "version": 3
   },
   "file_extension": ".py",
   "mimetype": "text/x-python",
   "name": "python",
   "nbconvert_exporter": "python",
   "pygments_lexer": "ipython3",
   "version": "3.8.10"
  },
  "orig_nbformat": 4
 },
 "nbformat": 4,
 "nbformat_minor": 2
}
