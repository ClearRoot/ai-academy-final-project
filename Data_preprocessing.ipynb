{
 "cells": [
  {
   "cell_type": "markdown",
   "metadata": {},
   "source": [
    "# 데이터 전처리\n",
    "## 시간을 기준으로 정렬 및 중복 제거"
   ]
  },
  {
   "cell_type": "code",
   "execution_count": 7,
   "metadata": {},
   "outputs": [],
   "source": [
    "import os\n",
    "import re\n",
    "\n",
    "from tqdm import tqdm\n",
    "\n",
    "import pandas as pd\n",
    "import numpy as np"
   ]
  },
  {
   "cell_type": "markdown",
   "metadata": {},
   "source": [
    "[ 'Time', 'Tmp', 'TmpMax', 'TmpMin','TmpMinMaxLoc', 'VCell', 'VCellMax', 'VCellMin', 'VCellMinMaxLoc',  \n",
    "'A', 'AChaMax', 'ADisChaMax', 'EvtVnd1','EvtVnd2', 'EvtVnd3', 'SoC', 'V', 'W', 'WChaMax', 'WDisChaMax' ]"
   ]
  },
  {
   "cell_type": "code",
   "execution_count": 8,
   "metadata": {},
   "outputs": [],
   "source": [
    "racks_f_path = r'dataset/racks_f/'\n",
    "racks_a_path = r'dataset/racks_a/'"
   ]
  },
  {
   "cell_type": "code",
   "execution_count": 9,
   "metadata": {},
   "outputs": [],
   "source": [
    "target_file = re.compile(r'racks_\\d{1,2}_\\d{4}_\\d{2}[.]csv')"
   ]
  },
  {
   "cell_type": "code",
   "execution_count": 10,
   "metadata": {},
   "outputs": [],
   "source": [
    "target_columns = [ \n",
    "    'Time', 'Tmp', 'TmpMax', 'TmpMin', 'TmpMinMaxLoc', 'VCell', 'VCellMax', 'VCellMin', 'VCellMinMaxLoc',  \n",
    "    'A', 'AChaMax', 'ADisChaMax', 'EvtVnd1', 'EvtVnd2', 'EvtVnd3', 'SoC', 'SoH', 'V', 'W', 'WChaMax', 'WDisChaMax'\n",
    "]"
   ]
  },
  {
   "cell_type": "code",
   "execution_count": 11,
   "metadata": {},
   "outputs": [],
   "source": [
    "def prep_data(path, target_columns):\n",
    "    for file_name in os.listdir(path):\n",
    "        if target_file.match(file_name):\n",
    "            prep_df = pd.DataFrame(columns=target_columns)\n",
    "            \n",
    "            df = pd.read_csv(path + file_name, low_memory=False)\n",
    "            df['Time'] = pd.to_datetime(df['Time'])\n",
    "            df = df.sort_values(by=['Time'])\n",
    "            df = df.drop_duplicates()\n",
    "            df.drop(df[df['SoH'] == 0].index)\n",
    "\n",
    "            for column in df.columns:\n",
    "                if column in target_columns:\n",
    "                    prep_df[column] = df[column]\n",
    "                        \n",
    "            prep_df.to_csv(path[:-1] + '_prep/' + file_name, index=False)"
   ]
  },
  {
   "cell_type": "code",
   "execution_count": 12,
   "metadata": {},
   "outputs": [],
   "source": [
    "# prep_data(racks_a_path, target_columns)\n",
    "prep_data(racks_f_path, target_columns)"
   ]
  },
  {
   "cell_type": "code",
   "execution_count": null,
   "metadata": {},
   "outputs": [],
   "source": []
  }
 ],
 "metadata": {
  "interpreter": {
   "hash": "8d7ca1d44a61b80929308f1be526baf5db053ed9997fc07773d72c16c06c7f79"
  },
  "kernelspec": {
   "display_name": "Python 3.9.6 64-bit ('main': conda)",
   "name": "python3"
  },
  "language_info": {
   "codemirror_mode": {
    "name": "ipython",
    "version": 3
   },
   "file_extension": ".py",
   "mimetype": "text/x-python",
   "name": "python",
   "nbconvert_exporter": "python",
   "pygments_lexer": "ipython3",
   "version": "3.9.6"
  },
  "orig_nbformat": 4
 },
 "nbformat": 4,
 "nbformat_minor": 2
}
