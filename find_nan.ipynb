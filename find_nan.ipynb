{
 "cells": [
  {
   "cell_type": "code",
   "execution_count": 35,
   "metadata": {},
   "outputs": [],
   "source": [
    "import pandas as pd\n",
    "import numpy as np\n",
    "from matplotlib import dates\n",
    "import matplotlib.pyplot as plt\n",
    "import matplotlib.ticker as ticker\n",
    "import seaborn as sns\n",
    "import tqdm"
   ]
  },
  {
   "cell_type": "code",
   "execution_count": 36,
   "metadata": {},
   "outputs": [],
   "source": [
    "df_all = pd.read_csv(r'data/preprocessing_data_A.csv', low_memory=False)\n",
    "df_all['Time'] = pd.to_datetime(df_all['Time'])"
   ]
  },
  {
   "cell_type": "code",
   "execution_count": 37,
   "metadata": {},
   "outputs": [
    {
     "data": {
      "text/plain": [
       "Index(['Time', 'Tmp', 'TmpMax', 'TmpMin', 'VCell', 'VCellMax', 'VCellMin', 'A',\n",
       "       'AChaMax', 'ADisChaMax', 'EvtVnd1', 'EvtVnd2', 'EvtVnd3', 'SoC', 'V',\n",
       "       'W', 'WChaMax', 'WDisChaMax', 'Racks'],\n",
       "      dtype='object')"
      ]
     },
     "execution_count": 37,
     "metadata": {},
     "output_type": "execute_result"
    }
   ],
   "source": [
    "df_all.columns"
   ]
  },
  {
   "cell_type": "code",
   "execution_count": 38,
   "metadata": {},
   "outputs": [
    {
     "data": {
      "text/plain": [
       "10151492"
      ]
     },
     "execution_count": 38,
     "metadata": {},
     "output_type": "execute_result"
    }
   ],
   "source": [
    "len(df_all)"
   ]
  },
  {
   "cell_type": "code",
   "execution_count": 6,
   "metadata": {},
   "outputs": [],
   "source": [
    "df = df_all[['Time', 'Tmp', 'TmpMax', 'TmpMin', 'VCell', 'VCellMax', 'VCellMin', 'A','SoC', 'V','W', 'Racks']]\n"
   ]
  },
  {
   "cell_type": "code",
   "execution_count": 7,
   "metadata": {},
   "outputs": [
    {
     "name": "stdout",
     "output_type": "stream",
     "text": [
      "Time : 0\n",
      "Tmp : 112\n",
      "TmpMax : 112\n",
      "TmpMin : 112\n",
      "VCell : 112\n",
      "VCellMax : 112\n",
      "VCellMin : 112\n",
      "A : 154\n",
      "SoC : 112\n",
      "V : 154\n",
      "W : 154\n",
      "Racks : 0\n"
     ]
    }
   ],
   "source": [
    "for i in df.columns:\n",
    "    print(i, \":\", df[f'{i}'].isnull().sum())"
   ]
  },
  {
   "cell_type": "code",
   "execution_count": 8,
   "metadata": {},
   "outputs": [],
   "source": [
    "confing = df['Tmp'].isnull() | df['TmpMax'].isnull() | df['TmpMin'].isnull() | df['VCell'].isnull() | df['VCellMax'].isnull() | df['VCellMin'].isnull() | df['A'].isnull() | df['SoC'].isnull() | df['V'].isnull() | df['W'].isnull()"
   ]
  },
  {
   "cell_type": "code",
   "execution_count": 9,
   "metadata": {},
   "outputs": [],
   "source": [
    "df_nan = df[confing]"
   ]
  },
  {
   "cell_type": "code",
   "execution_count": null,
   "metadata": {},
   "outputs": [],
   "source": [
    "df_nan"
   ]
  },
  {
   "cell_type": "code",
   "execution_count": null,
   "metadata": {},
   "outputs": [],
   "source": [
    "for i in df_nan['Racks'].index:\n",
    "    print(df_nan.loc[i]['Racks'], df_nan.loc[i]['Time'], \"data index :\", i)"
   ]
  },
  {
   "cell_type": "code",
   "execution_count": null,
   "metadata": {},
   "outputs": [],
   "source": [
    "for i in range(14):\n",
    "    print(\"racks_{}.shape\".format(i),df_nan[df_nan['Racks'] == 'racks_{}'.format(i)].shape)"
   ]
  },
  {
   "cell_type": "code",
   "execution_count": 42,
   "metadata": {},
   "outputs": [],
   "source": [
    "df_nan_count = df_nan[df_nan['Racks'] == 'racks_13']"
   ]
  },
  {
   "cell_type": "code",
   "execution_count": null,
   "metadata": {},
   "outputs": [],
   "source": [
    "for e in range(1,13):\n",
    "    globals()['rack_2019_{}'.format(e)] = 0\n",
    "for z in range(1,13):\n",
    "    globals()['rack_2020_{}'.format(z)] = 0\n",
    "\n",
    "for i in df_nan_count.index:\n",
    "    if df_nan_count.loc[i]['Time'][:-12] == \"2019-01\":\n",
    "        rack_2019_1 +=1\n",
    "    elif df_nan_count.loc[i]['Time'][:-12] == \"2019-02\":\n",
    "        rack_2019_2 +=1\n",
    "    elif df_nan_count.loc[i]['Time'][:-12] == \"2019-03\":\n",
    "        rack_2019_3 +=1\n",
    "    elif df_nan_count.loc[i]['Time'][:-12] == \"2019-04\":\n",
    "        rack_2019_4 +=1\n",
    "    elif df_nan_count.loc[i]['Time'][:-12] == \"2019-05\":\n",
    "        rack_2019_5 +=1\n",
    "    elif df_nan_count.loc[i]['Time'][:-12] == \"2019-06\":\n",
    "        rack_2019_6 +=1\n",
    "    elif df_nan_count.loc[i]['Time'][:-12] == \"2019-07\":\n",
    "        rack_2019_7 +=1\n",
    "    elif df_nan_count.loc[i]['Time'][:-12] == \"2019-08\":\n",
    "        rack_2019_8 +=1\n",
    "    elif df_nan_count.loc[i]['Time'][:-12] == \"2019-09\":\n",
    "        rack_2019_9 +=1\n",
    "    elif df_nan_count.loc[i]['Time'][:-12] == \"2019-10\":\n",
    "        rack_2019_10 +=1\n",
    "    elif df_nan_count.loc[i]['Time'][:-12] == \"2019-11\":\n",
    "        rack_2019_11 +=1\n",
    "    elif df_nan_count.loc[i]['Time'][:-12] == \"2019-12\":\n",
    "        rack_2019_12 +=1\n",
    "    elif df_nan_count.loc[i]['Time'][:-12] == \"2020-01\":\n",
    "        rack_2020_1 +=1\n",
    "    elif df_nan_count.loc[i]['Time'][:-12] == \"2020-02\":\n",
    "        rack_2020_2 +=1\n",
    "    elif df_nan_count.loc[i]['Time'][:-12] == \"2020-03\":\n",
    "        rack_2020_3 +=1\n",
    "    elif df_nan_count.loc[i]['Time'][:-12] == \"2020-04\":\n",
    "        rack_2020_4 +=1\n",
    "    elif df_nan_count.loc[i]['Time'][:-12] == \"2020-05\":\n",
    "        rack_2020_5 +=1\n",
    "    elif df_nan_count.loc[i]['Time'][:-12] == \"2020-06\":\n",
    "        rack_2020_6 +=1\n",
    "    elif df_nan_count.loc[i]['Time'][:-12] == \"2020-07\":\n",
    "        rack_2020_7 +=1\n",
    "    elif df_nan_count.loc[i]['Time'][:-12] == \"2020-08\":\n",
    "        rack_2020_8 +=1\n",
    "    elif df_nan_count.loc[i]['Time'][:-12] == \"2020-09\":\n",
    "        rack_2020_9 +=1\n",
    "    elif df_nan_count.loc[i]['Time'][:-12] == \"2020-10\":\n",
    "        rack_2020_10 +=1\n",
    "    elif df_nan_count.loc[i]['Time'][:-12] == \"2020-11\":\n",
    "        rack_2020_11 +=1\n",
    "    elif df_nan_count.loc[i]['Time'][:-12] == \"2020-12\":\n",
    "        rack_2020_12 +=1\n",
    "\n",
    "for n in range(1,13):\n",
    "    print(f\"rack_2019_{n} :\", globals()[f'rack_2019_{n}'])\n",
    "for n in range(1,13):\n",
    "    print(f\"rack_2020_{n} :\",  globals()[f'rack_2020_{n}'])"
   ]
  },
  {
   "cell_type": "markdown",
   "metadata": {},
   "source": [
    "## NaN 값 채우기"
   ]
  },
  {
   "cell_type": "code",
   "execution_count": 39,
   "metadata": {},
   "outputs": [],
   "source": [
    "def fill_data_nan(df, start_time: str, end_time: str):\n",
    "    start = pd.Timestamp(start_time)\n",
    "    end   = pd.Timestamp(end_time)\n",
    "    target = ['Time', 'Tmp', 'TmpMax', 'TmpMin', 'VCell', 'VCellMax', 'VCellMin', 'A','SoC', 'V','W']\n",
    "\n",
    "    for i in range(14):\n",
    "        temp_df = df[(start <= df['Time']) & (df['Time'] <= end) & (df['Racks'] == f'racks_{i}')].loc[:, target]\n",
    "        for e in temp_df.columns[1:]:\n",
    "            temp_df[e] = pd.Series(temp_df[e]).interpolate()\n",
    "        df.loc[temp_df.index[0]:temp_df.index[-1], target] = temp_df\n",
    "    return df"
   ]
  },
  {
   "cell_type": "code",
   "execution_count": 40,
   "metadata": {},
   "outputs": [],
   "source": [
    "df_all = fill_data_nan(df=df_all, start_time='2019-03-20 00:00:00', end_time='2019-03-20 23:59:00')\n",
    "df_all = fill_data_nan(df=df_all, start_time='2019-07-28 00:00:00', end_time='2019-07-28 23:59:00')\n",
    "df_all = fill_data_nan(df=df_all, start_time='2019-08-31 00:00:00', end_time='2019-08-31 23:59:00')\n",
    "df_all = fill_data_nan(df=df_all, start_time='2019-09-16 00:00:00', end_time='2019-09-16 23:59:00')"
   ]
  },
  {
   "cell_type": "markdown",
   "metadata": {},
   "source": [
    "## all racks drop"
   ]
  },
  {
   "cell_type": "code",
   "execution_count": 41,
   "metadata": {},
   "outputs": [],
   "source": [
    "def drop_data_nan(df, start_time: str, end_time: str, target_rack: str):\n",
    "    start = pd.Timestamp(start_time)\n",
    "    end   = pd.Timestamp(end_time)\n",
    "    target = ['Time', 'Tmp', 'TmpMax', 'TmpMin', 'VCell', 'VCellMax', 'VCellMin', 'A','SoC', 'V','W', 'Racks']\n",
    "\n",
    "    temp_df = df[(start <= df['Time']) & (df['Time'] <= end) & (df['Racks'] == f'{target_rack}')].loc[:, target]\n",
    "    df = df.drop(index=temp_df.index)\n",
    "    return df"
   ]
  },
  {
   "cell_type": "code",
   "execution_count": 42,
   "metadata": {},
   "outputs": [],
   "source": [
    "for e in range(14):\n",
    "    df_all = drop_data_nan(df_all, '2019-03-20 00:00:00', '2019-03-20 23:59:00', \"racks_{}\".format(str(e)))\n",
    "for e in range(14):\n",
    "    df_all = drop_data_nan(df_all, '2019-08-31 00:00:00', '2019-08-31 23:59:00', \"racks_{}\".format(str(e)))"
   ]
  },
  {
   "cell_type": "code",
   "execution_count": 43,
   "metadata": {},
   "outputs": [],
   "source": [
    "confing = df_all['Tmp'].isnull() | df_all['TmpMax'].isnull() | df_all['TmpMin'].isnull() | df_all['VCell'].isnull() | df_all['VCellMax'].isnull() | df_all['VCellMin'].isnull() | df_all['A'].isnull() | df_all['SoC'].isnull() | df_all['V'].isnull() | df_all['W'].isnull()"
   ]
  },
  {
   "cell_type": "code",
   "execution_count": 46,
   "metadata": {},
   "outputs": [],
   "source": [
    "df_nan= df_all[confing]"
   ]
  },
  {
   "cell_type": "code",
   "execution_count": 47,
   "metadata": {},
   "outputs": [
    {
     "data": {
      "text/html": [
       "<div>\n",
       "<style scoped>\n",
       "    .dataframe tbody tr th:only-of-type {\n",
       "        vertical-align: middle;\n",
       "    }\n",
       "\n",
       "    .dataframe tbody tr th {\n",
       "        vertical-align: top;\n",
       "    }\n",
       "\n",
       "    .dataframe thead th {\n",
       "        text-align: right;\n",
       "    }\n",
       "</style>\n",
       "<table border=\"1\" class=\"dataframe\">\n",
       "  <thead>\n",
       "    <tr style=\"text-align: right;\">\n",
       "      <th></th>\n",
       "      <th>Time</th>\n",
       "      <th>Tmp</th>\n",
       "      <th>TmpMax</th>\n",
       "      <th>TmpMin</th>\n",
       "      <th>VCell</th>\n",
       "      <th>VCellMax</th>\n",
       "      <th>VCellMin</th>\n",
       "      <th>A</th>\n",
       "      <th>AChaMax</th>\n",
       "      <th>ADisChaMax</th>\n",
       "      <th>EvtVnd1</th>\n",
       "      <th>EvtVnd2</th>\n",
       "      <th>EvtVnd3</th>\n",
       "      <th>SoC</th>\n",
       "      <th>V</th>\n",
       "      <th>W</th>\n",
       "      <th>WChaMax</th>\n",
       "      <th>WDisChaMax</th>\n",
       "      <th>Racks</th>\n",
       "    </tr>\n",
       "  </thead>\n",
       "  <tbody>\n",
       "  </tbody>\n",
       "</table>\n",
       "</div>"
      ],
      "text/plain": [
       "Empty DataFrame\n",
       "Columns: [Time, Tmp, TmpMax, TmpMin, VCell, VCellMax, VCellMin, A, AChaMax, ADisChaMax, EvtVnd1, EvtVnd2, EvtVnd3, SoC, V, W, WChaMax, WDisChaMax, Racks]\n",
       "Index: []"
      ]
     },
     "execution_count": 47,
     "metadata": {},
     "output_type": "execute_result"
    }
   ],
   "source": [
    "df_nan"
   ]
  },
  {
   "cell_type": "code",
   "execution_count": 48,
   "metadata": {},
   "outputs": [],
   "source": [
    "target = ['Time', 'Tmp', 'TmpMax', 'TmpMin', 'VCell', 'VCellMax', 'VCellMin', 'A','SoC', 'V','W', 'EvtVnd1', 'EvtVnd2', 'EvtVnd3','Racks']"
   ]
  },
  {
   "cell_type": "code",
   "execution_count": 49,
   "metadata": {},
   "outputs": [],
   "source": [
    "df_new = df_all[target]"
   ]
  },
  {
   "cell_type": "code",
   "execution_count": 50,
   "metadata": {},
   "outputs": [
    {
     "data": {
      "text/html": [
       "<div>\n",
       "<style scoped>\n",
       "    .dataframe tbody tr th:only-of-type {\n",
       "        vertical-align: middle;\n",
       "    }\n",
       "\n",
       "    .dataframe tbody tr th {\n",
       "        vertical-align: top;\n",
       "    }\n",
       "\n",
       "    .dataframe thead th {\n",
       "        text-align: right;\n",
       "    }\n",
       "</style>\n",
       "<table border=\"1\" class=\"dataframe\">\n",
       "  <thead>\n",
       "    <tr style=\"text-align: right;\">\n",
       "      <th></th>\n",
       "      <th>Time</th>\n",
       "      <th>Tmp</th>\n",
       "      <th>TmpMax</th>\n",
       "      <th>TmpMin</th>\n",
       "      <th>VCell</th>\n",
       "      <th>VCellMax</th>\n",
       "      <th>VCellMin</th>\n",
       "      <th>A</th>\n",
       "      <th>SoC</th>\n",
       "      <th>V</th>\n",
       "      <th>W</th>\n",
       "      <th>EvtVnd1</th>\n",
       "      <th>EvtVnd2</th>\n",
       "      <th>EvtVnd3</th>\n",
       "      <th>Racks</th>\n",
       "    </tr>\n",
       "  </thead>\n",
       "  <tbody>\n",
       "    <tr>\n",
       "      <th>0</th>\n",
       "      <td>2019-01-01 00:00:00</td>\n",
       "      <td>23.5</td>\n",
       "      <td>25.5</td>\n",
       "      <td>21.5</td>\n",
       "      <td>3.429</td>\n",
       "      <td>3.452</td>\n",
       "      <td>3.402</td>\n",
       "      <td>0.0</td>\n",
       "      <td>4.0</td>\n",
       "      <td>816.3</td>\n",
       "      <td>0.0</td>\n",
       "      <td>NaN</td>\n",
       "      <td>NaN</td>\n",
       "      <td>NaN</td>\n",
       "      <td>racks_0</td>\n",
       "    </tr>\n",
       "    <tr>\n",
       "      <th>1</th>\n",
       "      <td>2019-01-01 00:01:00</td>\n",
       "      <td>23.5</td>\n",
       "      <td>25.5</td>\n",
       "      <td>21.5</td>\n",
       "      <td>3.429</td>\n",
       "      <td>3.452</td>\n",
       "      <td>3.402</td>\n",
       "      <td>0.0</td>\n",
       "      <td>4.0</td>\n",
       "      <td>816.3</td>\n",
       "      <td>0.0</td>\n",
       "      <td>NaN</td>\n",
       "      <td>NaN</td>\n",
       "      <td>NaN</td>\n",
       "      <td>racks_0</td>\n",
       "    </tr>\n",
       "    <tr>\n",
       "      <th>2</th>\n",
       "      <td>2019-01-01 00:02:00</td>\n",
       "      <td>23.5</td>\n",
       "      <td>25.5</td>\n",
       "      <td>21.5</td>\n",
       "      <td>3.429</td>\n",
       "      <td>3.452</td>\n",
       "      <td>3.401</td>\n",
       "      <td>0.0</td>\n",
       "      <td>4.0</td>\n",
       "      <td>816.3</td>\n",
       "      <td>0.0</td>\n",
       "      <td>NaN</td>\n",
       "      <td>NaN</td>\n",
       "      <td>NaN</td>\n",
       "      <td>racks_0</td>\n",
       "    </tr>\n",
       "    <tr>\n",
       "      <th>3</th>\n",
       "      <td>2019-01-01 00:03:00</td>\n",
       "      <td>23.5</td>\n",
       "      <td>25.5</td>\n",
       "      <td>21.5</td>\n",
       "      <td>3.429</td>\n",
       "      <td>3.452</td>\n",
       "      <td>3.401</td>\n",
       "      <td>0.0</td>\n",
       "      <td>4.0</td>\n",
       "      <td>816.3</td>\n",
       "      <td>0.0</td>\n",
       "      <td>NaN</td>\n",
       "      <td>NaN</td>\n",
       "      <td>NaN</td>\n",
       "      <td>racks_0</td>\n",
       "    </tr>\n",
       "    <tr>\n",
       "      <th>4</th>\n",
       "      <td>2019-01-01 00:04:00</td>\n",
       "      <td>23.5</td>\n",
       "      <td>25.5</td>\n",
       "      <td>21.5</td>\n",
       "      <td>3.429</td>\n",
       "      <td>3.454</td>\n",
       "      <td>3.402</td>\n",
       "      <td>0.0</td>\n",
       "      <td>4.0</td>\n",
       "      <td>816.3</td>\n",
       "      <td>0.0</td>\n",
       "      <td>NaN</td>\n",
       "      <td>NaN</td>\n",
       "      <td>NaN</td>\n",
       "      <td>racks_0</td>\n",
       "    </tr>\n",
       "    <tr>\n",
       "      <th>...</th>\n",
       "      <td>...</td>\n",
       "      <td>...</td>\n",
       "      <td>...</td>\n",
       "      <td>...</td>\n",
       "      <td>...</td>\n",
       "      <td>...</td>\n",
       "      <td>...</td>\n",
       "      <td>...</td>\n",
       "      <td>...</td>\n",
       "      <td>...</td>\n",
       "      <td>...</td>\n",
       "      <td>...</td>\n",
       "      <td>...</td>\n",
       "      <td>...</td>\n",
       "      <td>...</td>\n",
       "    </tr>\n",
       "    <tr>\n",
       "      <th>10151487</th>\n",
       "      <td>2020-07-11 17:51:00</td>\n",
       "      <td>25.0</td>\n",
       "      <td>25.0</td>\n",
       "      <td>24.5</td>\n",
       "      <td>3.852</td>\n",
       "      <td>3.858</td>\n",
       "      <td>3.841</td>\n",
       "      <td>0.0</td>\n",
       "      <td>70.5</td>\n",
       "      <td>916.7</td>\n",
       "      <td>0.0</td>\n",
       "      <td>NaN</td>\n",
       "      <td>NaN</td>\n",
       "      <td>NaN</td>\n",
       "      <td>racks_13</td>\n",
       "    </tr>\n",
       "    <tr>\n",
       "      <th>10151488</th>\n",
       "      <td>2020-07-11 17:52:00</td>\n",
       "      <td>25.0</td>\n",
       "      <td>25.0</td>\n",
       "      <td>24.5</td>\n",
       "      <td>3.852</td>\n",
       "      <td>3.858</td>\n",
       "      <td>3.841</td>\n",
       "      <td>0.0</td>\n",
       "      <td>70.5</td>\n",
       "      <td>916.7</td>\n",
       "      <td>0.0</td>\n",
       "      <td>NaN</td>\n",
       "      <td>NaN</td>\n",
       "      <td>NaN</td>\n",
       "      <td>racks_13</td>\n",
       "    </tr>\n",
       "    <tr>\n",
       "      <th>10151489</th>\n",
       "      <td>2020-07-11 17:53:00</td>\n",
       "      <td>25.0</td>\n",
       "      <td>25.0</td>\n",
       "      <td>24.5</td>\n",
       "      <td>3.852</td>\n",
       "      <td>3.858</td>\n",
       "      <td>3.841</td>\n",
       "      <td>0.0</td>\n",
       "      <td>70.5</td>\n",
       "      <td>916.7</td>\n",
       "      <td>0.0</td>\n",
       "      <td>NaN</td>\n",
       "      <td>NaN</td>\n",
       "      <td>NaN</td>\n",
       "      <td>racks_13</td>\n",
       "    </tr>\n",
       "    <tr>\n",
       "      <th>10151490</th>\n",
       "      <td>2020-07-11 17:54:00</td>\n",
       "      <td>25.0</td>\n",
       "      <td>25.0</td>\n",
       "      <td>24.5</td>\n",
       "      <td>3.851</td>\n",
       "      <td>3.859</td>\n",
       "      <td>3.841</td>\n",
       "      <td>0.0</td>\n",
       "      <td>70.5</td>\n",
       "      <td>916.7</td>\n",
       "      <td>0.0</td>\n",
       "      <td>NaN</td>\n",
       "      <td>NaN</td>\n",
       "      <td>NaN</td>\n",
       "      <td>racks_13</td>\n",
       "    </tr>\n",
       "    <tr>\n",
       "      <th>10151491</th>\n",
       "      <td>2020-07-11 17:55:00</td>\n",
       "      <td>25.0</td>\n",
       "      <td>25.0</td>\n",
       "      <td>24.5</td>\n",
       "      <td>3.851</td>\n",
       "      <td>3.859</td>\n",
       "      <td>3.841</td>\n",
       "      <td>0.0</td>\n",
       "      <td>70.5</td>\n",
       "      <td>916.7</td>\n",
       "      <td>0.0</td>\n",
       "      <td>NaN</td>\n",
       "      <td>NaN</td>\n",
       "      <td>NaN</td>\n",
       "      <td>racks_13</td>\n",
       "    </tr>\n",
       "  </tbody>\n",
       "</table>\n",
       "<p>10136134 rows × 15 columns</p>\n",
       "</div>"
      ],
      "text/plain": [
       "                        Time   Tmp  TmpMax  TmpMin  VCell  VCellMax  VCellMin  \\\n",
       "0        2019-01-01 00:00:00  23.5    25.5    21.5  3.429     3.452     3.402   \n",
       "1        2019-01-01 00:01:00  23.5    25.5    21.5  3.429     3.452     3.402   \n",
       "2        2019-01-01 00:02:00  23.5    25.5    21.5  3.429     3.452     3.401   \n",
       "3        2019-01-01 00:03:00  23.5    25.5    21.5  3.429     3.452     3.401   \n",
       "4        2019-01-01 00:04:00  23.5    25.5    21.5  3.429     3.454     3.402   \n",
       "...                      ...   ...     ...     ...    ...       ...       ...   \n",
       "10151487 2020-07-11 17:51:00  25.0    25.0    24.5  3.852     3.858     3.841   \n",
       "10151488 2020-07-11 17:52:00  25.0    25.0    24.5  3.852     3.858     3.841   \n",
       "10151489 2020-07-11 17:53:00  25.0    25.0    24.5  3.852     3.858     3.841   \n",
       "10151490 2020-07-11 17:54:00  25.0    25.0    24.5  3.851     3.859     3.841   \n",
       "10151491 2020-07-11 17:55:00  25.0    25.0    24.5  3.851     3.859     3.841   \n",
       "\n",
       "            A   SoC      V    W EvtVnd1 EvtVnd2 EvtVnd3     Racks  \n",
       "0         0.0   4.0  816.3  0.0     NaN     NaN     NaN   racks_0  \n",
       "1         0.0   4.0  816.3  0.0     NaN     NaN     NaN   racks_0  \n",
       "2         0.0   4.0  816.3  0.0     NaN     NaN     NaN   racks_0  \n",
       "3         0.0   4.0  816.3  0.0     NaN     NaN     NaN   racks_0  \n",
       "4         0.0   4.0  816.3  0.0     NaN     NaN     NaN   racks_0  \n",
       "...       ...   ...    ...  ...     ...     ...     ...       ...  \n",
       "10151487  0.0  70.5  916.7  0.0     NaN     NaN     NaN  racks_13  \n",
       "10151488  0.0  70.5  916.7  0.0     NaN     NaN     NaN  racks_13  \n",
       "10151489  0.0  70.5  916.7  0.0     NaN     NaN     NaN  racks_13  \n",
       "10151490  0.0  70.5  916.7  0.0     NaN     NaN     NaN  racks_13  \n",
       "10151491  0.0  70.5  916.7  0.0     NaN     NaN     NaN  racks_13  \n",
       "\n",
       "[10136134 rows x 15 columns]"
      ]
     },
     "execution_count": 50,
     "metadata": {},
     "output_type": "execute_result"
    }
   ],
   "source": [
    "df_new"
   ]
  },
  {
   "cell_type": "code",
   "execution_count": null,
   "metadata": {},
   "outputs": [],
   "source": []
  }
 ],
 "metadata": {
  "interpreter": {
   "hash": "5de8c1c686d05d9ca8fe863d4d842c92f498e7b7b0bdb1297a2151a07308c6e5"
  },
  "kernelspec": {
   "display_name": "Python 3.8.10 64-bit",
   "language": "python",
   "name": "python3"
  },
  "language_info": {
   "codemirror_mode": {
    "name": "ipython",
    "version": 3
   },
   "file_extension": ".py",
   "mimetype": "text/x-python",
   "name": "python",
   "nbconvert_exporter": "python",
   "pygments_lexer": "ipython3",
   "version": "3.8.10"
  },
  "orig_nbformat": 4
 },
 "nbformat": 4,
 "nbformat_minor": 2
}
