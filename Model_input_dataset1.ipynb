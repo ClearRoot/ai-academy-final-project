{
 "cells": [
  {
   "cell_type": "markdown",
   "metadata": {},
   "source": [
    "# Model에 사용할 데이터 만들기\n",
    "\n",
    "## 2020_05 ~ 06 기간의 Racks_a의 데이터 사용\n",
    "## 2019_05 ~ 06 기간의 Racks_f의 데이터 사용"
   ]
  },
  {
   "cell_type": "code",
   "execution_count": 1,
   "metadata": {},
   "outputs": [],
   "source": [
    "import os\n",
    "import re\n",
    "import pandas as pd"
   ]
  },
  {
   "cell_type": "code",
   "execution_count": 2,
   "metadata": {},
   "outputs": [],
   "source": [
    "racks_a_path = r'./dataset/racks_a/'\n",
    "racks_f_path = r'./dataset/racks_f/'"
   ]
  },
  {
   "cell_type": "code",
   "execution_count": 3,
   "metadata": {},
   "outputs": [],
   "source": [
    "# target_file = re.compile(r'racks_\\d{1,2}_2020_(05|06)\\.csv')\n",
    "target_file = re.compile(r'racks_\\d{1,2}_2019_(05|06)\\.csv')"
   ]
  },
  {
   "cell_type": "code",
   "execution_count": 4,
   "metadata": {},
   "outputs": [],
   "source": [
    "target_columns = [ \n",
    "    'Time', 'Tmp', 'TmpMax', 'TmpMin', 'TmpMinMaxLoc', 'VCell', 'VCellMax', 'VCellMin', 'VCellMinMaxLoc',  \n",
    "    'A', 'AChaMax', 'ADisChaMax', 'EvtVnd1', 'EvtVnd2', 'EvtVnd3', 'SoC', 'SoH', 'V', 'W', 'WChaMax', 'WDisChaMax'\n",
    "]"
   ]
  },
  {
   "cell_type": "code",
   "execution_count": 5,
   "metadata": {},
   "outputs": [],
   "source": [
    "def model_data(path, target_columns):\n",
    "    for file_name in os.listdir(path):\n",
    "        if target_file.match(file_name):\n",
    "            prep_df = pd.DataFrame(columns=target_columns)\n",
    "            \n",
    "            df = pd.read_csv(path + file_name, low_memory=False)\n",
    "            df['Time'] = pd.to_datetime(df['Time'])\n",
    "            df = df.sort_values(by=['Time'])\n",
    "            df = df.drop_duplicates()\n",
    "\n",
    "            for column in df.columns:\n",
    "                if column in target_columns:\n",
    "                    prep_df[column] = df[column]\n",
    "                        \n",
    "            prep_df.to_csv(path[:-1] + '_model/' + file_name, index=False)"
   ]
  },
  {
   "cell_type": "code",
   "execution_count": 6,
   "metadata": {},
   "outputs": [],
   "source": [
    "# model_data(racks_a_path, target_columns)"
   ]
  },
  {
   "cell_type": "code",
   "execution_count": 7,
   "metadata": {},
   "outputs": [],
   "source": [
    "model_data(racks_f_path, target_columns)"
   ]
  }
 ],
 "metadata": {
  "interpreter": {
   "hash": "8d7ca1d44a61b80929308f1be526baf5db053ed9997fc07773d72c16c06c7f79"
  },
  "kernelspec": {
   "display_name": "Python 3.9.6 64-bit ('main': conda)",
   "language": "python",
   "name": "python3"
  },
  "language_info": {
   "codemirror_mode": {
    "name": "ipython",
    "version": 3
   },
   "file_extension": ".py",
   "mimetype": "text/x-python",
   "name": "python",
   "nbconvert_exporter": "python",
   "pygments_lexer": "ipython3",
   "version": "3.9.6"
  },
  "orig_nbformat": 4
 },
 "nbformat": 4,
 "nbformat_minor": 2
}
