{
 "cells": [
  {
   "cell_type": "markdown",
   "metadata": {},
   "source": [
    "# rack 별 선 그래프 그리기"
   ]
  },
  {
   "cell_type": "code",
   "execution_count": null,
   "metadata": {},
   "outputs": [],
   "source": [
    "import pandas as pd\n",
    "import matplotlib.pylab as plt\n",
    "import seaborn as sns\n",
    "import os\n",
    "import re"
   ]
  },
  {
   "cell_type": "code",
   "execution_count": null,
   "metadata": {},
   "outputs": [],
   "source": [
    "racks_a_path = r'./racks_a/'\n",
    "racks_f_path = r'./racks_f/'"
   ]
  },
  {
   "cell_type": "markdown",
   "metadata": {},
   "source": [
    "## 월별 데이터를 하나의 데이터로 합치기"
   ]
  },
  {
   "cell_type": "code",
   "execution_count": null,
   "metadata": {},
   "outputs": [],
   "source": [
    "def make_racks_dataset(racks_num, dic_path):\n",
    "    df = pd.DataFrame()\n",
    "    target_racks = re.compile(f'racks_{racks_num}_.')\n",
    "    for file_name in os.listdir(dic_path):\n",
    "        if target_racks.match(file_name):\n",
    "            target_df = pd.read_csv(dic_path + file_name)\n",
    "            df = pd.concat([df, target_df], ignore_index=True)\n",
    "    df['Time'] = pd.to_datetime(df['Time'])\n",
    "    return df"
   ]
  },
  {
   "cell_type": "markdown",
   "metadata": {},
   "source": [
    "## 원하는 sheet의 그래프를 보여주는 함수"
   ]
  },
  {
   "cell_type": "code",
   "execution_count": null,
   "metadata": {},
   "outputs": [],
   "source": [
    "def show_lineplot(data, target_sheet, x='Time'):\n",
    "    fig, ax = plt.subplots(figsize=(20, 8))\n",
    "    sns.lineplot(data=data.loc[:, [x, target_sheet]], x=x, y=target_sheet, ax=ax)\n",
    "    plt.show()"
   ]
  },
  {
   "cell_type": "markdown",
   "metadata": {},
   "source": [
    "## 원하는 sheet의 그래프를 만들어 저장하는 함수"
   ]
  },
  {
   "cell_type": "code",
   "execution_count": null,
   "metadata": {},
   "outputs": [],
   "source": [
    "def save_lineplot_img(racks_num, dic_path, target_sheet, x='Time'):\n",
    "    data = make_racks_dataset(racks_num, dic_path)\n",
    "    fig_titile = f'racks_{racks_num}_{target_sheet}'\n",
    "    fig, ax = plt.subplots(figsize=(20, 8))\n",
    "    sns.lineplot(data=data.loc[:, [x, target_sheet]], x=x, y=target_sheet, ax=ax)\n",
    "    plt.title(fig_titile)\n",
    "    plt.savefig(f'{dic_path[:-1]}_img/{fig_titile}.png')"
   ]
  },
  {
   "cell_type": "code",
   "execution_count": null,
   "metadata": {},
   "outputs": [],
   "source": [
    "racks_0_a = make_racks_dataset('0', racks_a_path)\n",
    "\n",
    "show_lineplot(racks_0_a, 'A')"
   ]
  },
  {
   "cell_type": "code",
   "execution_count": null,
   "metadata": {},
   "outputs": [],
   "source": [
    "for i in range(11):\n",
    "    save_lineplot_img(str(i), racks_f_path, 'SoC')"
   ]
  },
  {
   "cell_type": "code",
   "execution_count": null,
   "metadata": {},
   "outputs": [],
   "source": []
  }
 ],
 "metadata": {
  "interpreter": {
   "hash": "0a9cec4149a2621302bb23fd29ff5e44bafdd076f944fee2b843dba8f0ec50f6"
  },
  "kernelspec": {
   "display_name": "Python 3.9.6 64-bit ('main': conda)",
   "name": "python3"
  },
  "language_info": {
   "codemirror_mode": {
    "name": "ipython",
    "version": 3
   },
   "file_extension": ".py",
   "mimetype": "text/x-python",
   "name": "python",
   "nbconvert_exporter": "python",
   "pygments_lexer": "ipython3",
   "version": "3.9.6"
  },
  "orig_nbformat": 4
 },
 "nbformat": 4,
 "nbformat_minor": 2
}
