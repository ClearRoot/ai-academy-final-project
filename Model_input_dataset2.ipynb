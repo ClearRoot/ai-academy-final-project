{
 "cells": [
  {
   "cell_type": "markdown",
   "metadata": {},
   "source": [
    "# Model의 input 데이터 만들기\n",
    "\n",
    "## Racks_a의 14개의 rack의 온도 데이터 사용\n",
    "## Racks_f의 14개의 rack의 온도 데이터 사용"
   ]
  },
  {
   "cell_type": "code",
   "execution_count": 1,
   "metadata": {},
   "outputs": [],
   "source": [
    "import os\n",
    "from tqdm import tqdm\n",
    "\n",
    "import pandas as pd"
   ]
  },
  {
   "cell_type": "code",
   "execution_count": 2,
   "metadata": {},
   "outputs": [],
   "source": [
    "# folder_path = r'C:\\Users\\HogeunJo\\Desktop\\aiacademy\\dataset\\racks_a_model/'\n",
    "folder_path = r'C:\\Users\\HogeunJo\\Desktop\\aiacademy\\dataset\\racks_f_model/'"
   ]
  },
  {
   "cell_type": "code",
   "execution_count": 3,
   "metadata": {},
   "outputs": [],
   "source": [
    "# target_columns = [ \n",
    "#     'Time', 'Tmp', 'TmpMax', 'TmpMin', 'TmpMinMaxLoc', 'VCell', 'VCellMax', 'VCellMin', 'VCellMinMaxLoc',  \n",
    "#     'A', 'AChaMax', 'ADisChaMax', 'EvtVnd1', 'EvtVnd2', 'EvtVnd3', 'SoC', 'SoH', 'V', 'W', 'WChaMax', 'WDisChaMax'\n",
    "# ]"
   ]
  },
  {
   "cell_type": "code",
   "execution_count": 4,
   "metadata": {},
   "outputs": [],
   "source": [
    "target_columns = ['Time', 'Tmp']"
   ]
  },
  {
   "cell_type": "code",
   "execution_count": 5,
   "metadata": {},
   "outputs": [],
   "source": [
    "def model_tmp_dataset(folder_path):\n",
    "    file_list = sorted(os.listdir(folder_path), key=lambda x: int(x.split('_')[1]))\n",
    "    \n",
    "    may_df = pd.read_csv(folder_path + file_list[0], dtype={'EvtVnd1': object, 'EvtVnd2': object, 'EvtVnd3': object})\n",
    "    may_df['Time'] = pd.to_datetime(may_df['Time'])\n",
    "    may_tmp_df = may_df.loc[:, ['Time', 'Tmp']]\n",
    "\n",
    "    jun_df = pd.read_csv(folder_path + file_list[1], dtype={'EvtVnd1': object, 'EvtVnd2': object, 'EvtVnd3': object})\n",
    "    jun_df['Time'] = pd.to_datetime(jun_df['Time'])\n",
    "    jun_tmp_df = jun_df.loc[:, ['Time', 'Tmp']]\n",
    "\n",
    "    df = pd.concat([may_tmp_df, jun_tmp_df])\n",
    "    df['Racks_0_tmp'] = df['Tmp']\n",
    "    df = df.drop('Tmp', axis=1)\n",
    "    \n",
    "    for i in tqdm(range(2, len(file_list), 2)):\n",
    "        racks_num = file_list[i].split('_')[1]\n",
    "\n",
    "        may_df = pd.read_csv(folder_path + file_list[i], dtype={'EvtVnd1': object, 'EvtVnd2': object, 'EvtVnd3': object})\n",
    "        may_df['Time'] = pd.to_datetime(may_df['Time'])\n",
    "        may_tmp_df = may_df.loc[:, ['Time', 'Tmp']]\n",
    "\n",
    "        jun_df = pd.read_csv(folder_path + file_list[i+1], dtype={'EvtVnd1': object, 'EvtVnd2': object, 'EvtVnd3': object})\n",
    "        jun_df['Time'] = pd.to_datetime(jun_df['Time'])\n",
    "        jun_tmp_df = jun_df.loc[:, ['Time', 'Tmp']]\n",
    "\n",
    "        join_df = pd.concat([may_tmp_df, jun_tmp_df])\n",
    "        join_df[f'Racks_{racks_num}_tmp'] = join_df['Tmp']\n",
    "        join_df = join_df.drop('Tmp', axis=1)\n",
    "        \n",
    "        df = df.join(join_df.set_index('Time'), on='Time')\n",
    "\n",
    "    return df"
   ]
  },
  {
   "cell_type": "code",
   "execution_count": 6,
   "metadata": {},
   "outputs": [
    {
     "name": "stderr",
     "output_type": "stream",
     "text": [
      "100%|██████████| 13/13 [00:03<00:00,  3.78it/s]\n"
     ]
    }
   ],
   "source": [
    "model_tmp_df = model_tmp_dataset(folder_path)"
   ]
  },
  {
   "cell_type": "code",
   "execution_count": 7,
   "metadata": {},
   "outputs": [
    {
     "name": "stdout",
     "output_type": "stream",
     "text": [
      "<class 'pandas.core.frame.DataFrame'>\n",
      "Int64Index: 87190 entries, 0 to 42762\n",
      "Data columns (total 15 columns):\n",
      " #   Column        Non-Null Count  Dtype         \n",
      "---  ------        --------------  -----         \n",
      " 0   Time          87190 non-null  datetime64[ns]\n",
      " 1   Racks_0_tmp   87190 non-null  float64       \n",
      " 2   Racks_1_tmp   87190 non-null  float64       \n",
      " 3   Racks_2_tmp   87190 non-null  float64       \n",
      " 4   Racks_3_tmp   87190 non-null  float64       \n",
      " 5   Racks_4_tmp   87190 non-null  float64       \n",
      " 6   Racks_5_tmp   87190 non-null  float64       \n",
      " 7   Racks_6_tmp   87190 non-null  float64       \n",
      " 8   Racks_7_tmp   87190 non-null  float64       \n",
      " 9   Racks_8_tmp   87190 non-null  float64       \n",
      " 10  Racks_9_tmp   87190 non-null  float64       \n",
      " 11  Racks_10_tmp  87190 non-null  float64       \n",
      " 12  Racks_11_tmp  87190 non-null  float64       \n",
      " 13  Racks_12_tmp  87190 non-null  float64       \n",
      " 14  Racks_13_tmp  87190 non-null  float64       \n",
      "dtypes: datetime64[ns](1), float64(14)\n",
      "memory usage: 10.6 MB\n"
     ]
    }
   ],
   "source": [
    "model_tmp_df.info()"
   ]
  },
  {
   "cell_type": "code",
   "execution_count": 8,
   "metadata": {},
   "outputs": [],
   "source": [
    "# model_tmp_df.to_csv('racks_a_model_dataset.csv', index=False)\n",
    "model_tmp_df.to_csv('racks_f_model_dataset.csv', index=False)"
   ]
  }
 ],
 "metadata": {
  "interpreter": {
   "hash": "8d7ca1d44a61b80929308f1be526baf5db053ed9997fc07773d72c16c06c7f79"
  },
  "kernelspec": {
   "display_name": "Python 3.9.6 64-bit ('main': conda)",
   "language": "python",
   "name": "python3"
  },
  "language_info": {
   "codemirror_mode": {
    "name": "ipython",
    "version": 3
   },
   "file_extension": ".py",
   "mimetype": "text/x-python",
   "name": "python",
   "nbconvert_exporter": "python",
   "pygments_lexer": "ipython3",
   "version": "3.9.6"
  },
  "orig_nbformat": 4
 },
 "nbformat": 4,
 "nbformat_minor": 2
}
