{
 "cells": [
  {
   "cell_type": "code",
   "execution_count": 22,
   "metadata": {},
   "outputs": [],
   "source": [
    "# Imported Libraries\n",
    "import numpy as np \n",
    "import pandas as pd\n",
    "import tensorflow as tf\n",
    "import matplotlib.pyplot as plt\n",
    "%matplotlib inline\n",
    "import seaborn as sns\n",
    "from sklearn.manifold import TSNE\n",
    "from sklearn.decomposition import PCA, TruncatedSVD\n",
    "import matplotlib.patches as mpatches\n",
    "import time\n",
    "\n",
    "# Classifier Libraries\n",
    "from sklearn.linear_model import LogisticRegression\n",
    "from sklearn.svm import SVC\n",
    "from sklearn.neighbors import KNeighborsClassifier\n",
    "from sklearn.tree import DecisionTreeClassifier\n",
    "from sklearn.ensemble import RandomForestClassifier\n",
    "import collections\n",
    "\n",
    "# Other Libraries\n",
    "from sklearn.model_selection import train_test_split\n",
    "from sklearn.pipeline import make_pipeline\n",
    "from imblearn.pipeline import make_pipeline as imbalanced_make_pipeline\n",
    "from imblearn.over_sampling import SMOTE\n",
    "from imblearn.under_sampling import NearMiss\n",
    "from imblearn.metrics import classification_report_imbalanced\n",
    "from sklearn.metrics import precision_score, recall_score, f1_score, roc_auc_score, accuracy_score, classification_report\n",
    "from collections import Counter\n",
    "from sklearn.model_selection import KFold, StratifiedKFold\n",
    "import warnings\n",
    "warnings.filterwarnings(\"ignore\")\n",
    "from lightgbm import LGBMClassifier, plot_importance\n",
    "from sklearn.metrics import accuracy_score"
   ]
  },
  {
   "cell_type": "code",
   "execution_count": 2,
   "metadata": {},
   "outputs": [],
   "source": [
    "df_all = pd.read_csv(r'data/Real_Final_F.csv', low_memory=False)\n",
    "df_new = df_all.copy()"
   ]
  },
  {
   "cell_type": "code",
   "execution_count": 3,
   "metadata": {},
   "outputs": [],
   "source": [
    "df_new = df_new.drop(['TDF'], axis=1)\n",
    "df_new = df_new.drop(['Racks'], axis=1)\n",
    "df_new = df_new.drop(['Time'], axis=1)"
   ]
  },
  {
   "cell_type": "code",
   "execution_count": 4,
   "metadata": {},
   "outputs": [
    {
     "data": {
      "text/plain": [
       "Index(['Tmp', 'TmpMax', 'TmpMin', 'VCell', 'VCellMax', 'VCellMin', 'A',\n",
       "       'AChaMax', 'ADisChaMax', 'SoC', 'W', 'WChaMax', 'WDisChaMax', 'TDW'],\n",
       "      dtype='object')"
      ]
     },
     "execution_count": 4,
     "metadata": {},
     "output_type": "execute_result"
    }
   ],
   "source": [
    "df_new.columns"
   ]
  },
  {
   "cell_type": "code",
   "execution_count": 5,
   "metadata": {},
   "outputs": [
    {
     "name": "stdout",
     "output_type": "stream",
     "text": [
      "Tmp : 0\n",
      "TmpMax : 0\n",
      "TmpMin : 0\n",
      "VCell : 0\n",
      "VCellMax : 0\n",
      "VCellMin : 0\n",
      "A : 0\n",
      "AChaMax : 0\n",
      "ADisChaMax : 0\n",
      "SoC : 0\n",
      "W : 0\n",
      "WChaMax : 0\n",
      "WDisChaMax : 0\n",
      "TDW : 0\n"
     ]
    }
   ],
   "source": [
    "for i in df_new.columns:\n",
    "    print(i,\":\" ,df_new[f'{i}'].isnull().sum())"
   ]
  },
  {
   "cell_type": "code",
   "execution_count": 6,
   "metadata": {},
   "outputs": [
    {
     "data": {
      "text/plain": [
       "(4741572, 14)"
      ]
     },
     "execution_count": 6,
     "metadata": {},
     "output_type": "execute_result"
    }
   ],
   "source": [
    "df_new.shape"
   ]
  },
  {
   "cell_type": "markdown",
   "metadata": {},
   "source": [
    "### 극명하게 나타나는 불균형"
   ]
  },
  {
   "cell_type": "code",
   "execution_count": 7,
   "metadata": {},
   "outputs": [
    {
     "data": {
      "text/plain": [
       "<AxesSubplot:>"
      ]
     },
     "execution_count": 7,
     "metadata": {},
     "output_type": "execute_result"
    },
    {
     "data": {
      "image/png": "[encoded data removed]",
      "text/plain": [
       "<Figure size 432x288 with 1 Axes>"
      ]
     },
     "metadata": {
      "needs_background": "light"
     },
     "output_type": "display_data"
    }
   ],
   "source": [
    "df_new.iloc[:, -1].value_counts().plot(kind='bar')"
   ]
  },
  {
   "cell_type": "code",
   "execution_count": 8,
   "metadata": {},
   "outputs": [
    {
     "data": {
      "text/plain": [
       "0    4734755\n",
       "1       6817\n",
       "Name: TDW, dtype: int64"
      ]
     },
     "execution_count": 8,
     "metadata": {},
     "output_type": "execute_result"
    }
   ],
   "source": [
    "df_new.iloc[:, -1].value_counts() ## warring event의 갯수가 많이 적음"
   ]
  },
  {
   "cell_type": "code",
   "execution_count": 9,
   "metadata": {},
   "outputs": [
    {
     "data": {
      "text/plain": [
       "0    99.856229\n",
       "1     0.143771\n",
       "Name: TDW, dtype: float64"
      ]
     },
     "execution_count": 9,
     "metadata": {},
     "output_type": "execute_result"
    }
   ],
   "source": [
    "df_new.iloc[:, -1].value_counts() / df_new.iloc[:, -1].count() * 100 ## 백분율로 분포 비율 확인"
   ]
  },
  {
   "cell_type": "markdown",
   "metadata": {},
   "source": [
    "### normal dataset에서 20451개 가져오기"
   ]
  },
  {
   "cell_type": "code",
   "execution_count": 10,
   "metadata": {},
   "outputs": [],
   "source": [
    "df_new_0 = df_new[df_new['TDW'] == 0]\n",
    "df_new_1 = df_new[df_new['TDW'] == 1]"
   ]
  },
  {
   "cell_type": "code",
   "execution_count": 11,
   "metadata": {},
   "outputs": [],
   "source": [
    "df_new_0 = df_new_0.sample(n=len(df_new_1) * 3, replace=True)"
   ]
  },
  {
   "cell_type": "code",
   "execution_count": 12,
   "metadata": {},
   "outputs": [],
   "source": [
    "df_sample = pd.concat([df_new_0, df_new_1])"
   ]
  },
  {
   "cell_type": "markdown",
   "metadata": {},
   "source": [
    "### train_test_split"
   ]
  },
  {
   "cell_type": "code",
   "execution_count": 13,
   "metadata": {},
   "outputs": [],
   "source": [
    "X = df_sample.iloc[:, :-1]\n",
    "y = df_sample.iloc[:, -1]"
   ]
  },
  {
   "cell_type": "code",
   "execution_count": 14,
   "metadata": {},
   "outputs": [],
   "source": [
    "X_train, X_test, y_train, y_test = train_test_split(X, y, test_size=0.3, random_state=10)"
   ]
  },
  {
   "cell_type": "code",
   "execution_count": 15,
   "metadata": {},
   "outputs": [
    {
     "name": "stdout",
     "output_type": "stream",
     "text": [
      "0    75.297323\n",
      "1    24.702677\n",
      "Name: TDW, dtype: float64\n",
      "0    74.30632\n",
      "1    25.69368\n",
      "Name: TDW, dtype: float64\n"
     ]
    }
   ],
   "source": [
    "## train, test 의 y값 나눠진 비율 확인\n",
    "print(y_train.value_counts() / y_train.count() * 100)\n",
    "print(y_test.value_counts() / y_test.count() * 100)"
   ]
  },
  {
   "cell_type": "markdown",
   "metadata": {},
   "source": [
    "### make model"
   ]
  },
  {
   "cell_type": "code",
   "execution_count": 16,
   "metadata": {},
   "outputs": [],
   "source": [
    "def metrics(y_test, pred):\n",
    "    accuracy = accuracy_score(y_test, pred)\n",
    "    precision = precision_score(y_test, pred)\n",
    "    recall = recall_score(y_test, pred)\n",
    "    f1 = f1_score(y_test, pred)\n",
    "    roc_score = roc_auc_score(y_test, pred, average='macro')\n",
    "    print('정확도 : {0: .2f},  정밀도 : {1: .2f}, 재현율 : {2: .2f}' .format(accuracy, precision, recall))\n",
    "    print('f1_score : {0: .2f}, acu : {1: .2f}' .format(f1, roc_score))"
   ]
  },
  {
   "cell_type": "code",
   "execution_count": 17,
   "metadata": {},
   "outputs": [],
   "source": [
    "# 평가 과정 함수화\n",
    "def modeling(model, x_train, x_test, y_train, y_test):\n",
    "    model.fit(x_train, y_train)\n",
    "    pred = model.predict(x_test)\n",
    "    metrics(y_test, pred)"
   ]
  },
  {
   "cell_type": "code",
   "execution_count": 18,
   "metadata": {},
   "outputs": [
    {
     "name": "stdout",
     "output_type": "stream",
     "text": [
      "================== LogisticRegression ========================\n",
      "정확도 :  0.88,  정밀도 :  0.97, 재현율 :  0.55\n",
      "f1_score :  0.70, acu :  0.77\n",
      "================== LGBMClassifier ========================\n",
      "정확도 :  0.94,  정밀도 :  0.94, 재현율 :  0.82\n",
      "f1_score :  0.88, acu :  0.90\n"
     ]
    }
   ],
   "source": [
    "print(\"================== LogisticRegression ========================\")\n",
    "lr = LogisticRegression()\n",
    "modeling(lr, X_train, X_test, y_train, y_test)\n",
    "print(\"================== LGBMClassifier ========================\")\n",
    "lgb = LGBMClassifier(n_estimators=100, learning_rate=0.01, max_depth=2)\n",
    "modeling(lgb, X_train, X_test, y_train, y_test)"
   ]
  },
  {
   "cell_type": "code",
   "execution_count": 26,
   "metadata": {},
   "outputs": [
    {
     "data": {
      "text/plain": [
       "<AxesSubplot:title={'center':'Feature importance'}, xlabel='Feature importance', ylabel='Features'>"
      ]
     },
     "execution_count": 26,
     "metadata": {},
     "output_type": "execute_result"
    },
    {
     "data": {
      "image/png": "[encoded data removed]",
      "text/plain": [
       "<Figure size 432x432 with 1 Axes>"
      ]
     },
     "metadata": {
      "needs_background": "light"
     },
     "output_type": "display_data"
    }
   ],
   "source": [
    "# 특성 중요도 시각화\n",
    "import seaborn as sns\n",
    "f, ax = plt.subplots(figsize=(6,6))\n",
    "plot_importance(lgb,max_num_features=10, ax=ax) # 상위 10개를 조회 했는데도 정확히 온도의 칼럼만 나옴"
   ]
  },
  {
   "cell_type": "code",
   "execution_count": null,
   "metadata": {},
   "outputs": [],
   "source": [
    "# print(\"================== LogisticRegression ========================\")\n",
    "# lr = LogisticRegression()\n",
    "# modeling(lr, X_train, X_test, y_train, y_test)\n",
    "# print(\"================== LGBMClassifier ========================\")\n",
    "# lgb = LGBMClassifier(n_estimators=400, num_leaves=80, n_jobs=-1,max_depth=7, boost_from_average=False)\n",
    "# modeling(lgb, X_train, X_test, y_train, y_test)"
   ]
  },
  {
   "cell_type": "markdown",
   "metadata": {},
   "source": [
    "### next step 일단 columns별 정규화 할 것으로 예상"
   ]
  },
  {
   "cell_type": "code",
   "execution_count": null,
   "metadata": {},
   "outputs": [],
   "source": []
  }
 ],
 "metadata": {
  "interpreter": {
   "hash": "5de8c1c686d05d9ca8fe863d4d842c92f498e7b7b0bdb1297a2151a07308c6e5"
  },
  "kernelspec": {
   "display_name": "Python 3.8.10 64-bit",
   "language": "python",
   "name": "python3"
  },
  "language_info": {
   "codemirror_mode": {
    "name": "ipython",
    "version": 3
   },
   "file_extension": ".py",
   "mimetype": "text/x-python",
   "name": "python",
   "nbconvert_exporter": "python",
   "pygments_lexer": "ipython3",
   "version": "3.8.10"
  },
  "orig_nbformat": 4
 },
 "nbformat": 4,
 "nbformat_minor": 2
}
